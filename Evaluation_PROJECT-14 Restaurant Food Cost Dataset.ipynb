{
 "cells": [
  {
   "cell_type": "markdown",
   "metadata": {},
   "source": [
    "## Predicting the cost of the food served by the restaurants across different cities in India."
   ]
  },
  {
   "cell_type": "code",
   "execution_count": 2,
   "metadata": {},
   "outputs": [],
   "source": [
    "#Importing all the necessary libraries\n",
    "import numpy as np\n",
    "import pandas as pd\n",
    "import matplotlib.pyplot as plt\n",
    "import seaborn as sns\n",
    "\n",
    "#Importing the warnings\n",
    "import warnings\n",
    "warnings.filterwarnings('ignore')"
   ]
  },
  {
   "cell_type": "code",
   "execution_count": 79,
   "metadata": {},
   "outputs": [],
   "source": [
    "#Loading the dataset\n",
    "df_train=pd.read_excel(\"Data_Train.xlsx\")\n",
    "df_test=pd.read_excel(\"Data_Test.xlsx\")\n",
    "#df=pd.concat([df_train,df_test])\n",
    "df=df_train\n"
   ]
  },
  {
   "cell_type": "code",
   "execution_count": 80,
   "metadata": {},
   "outputs": [
    {
     "data": {
      "text/html": [
       "<div>\n",
       "<style scoped>\n",
       "    .dataframe tbody tr th:only-of-type {\n",
       "        vertical-align: middle;\n",
       "    }\n",
       "\n",
       "    .dataframe tbody tr th {\n",
       "        vertical-align: top;\n",
       "    }\n",
       "\n",
       "    .dataframe thead th {\n",
       "        text-align: right;\n",
       "    }\n",
       "</style>\n",
       "<table border=\"1\" class=\"dataframe\">\n",
       "  <thead>\n",
       "    <tr style=\"text-align: right;\">\n",
       "      <th></th>\n",
       "      <th>TITLE</th>\n",
       "      <th>RESTAURANT_ID</th>\n",
       "      <th>CUISINES</th>\n",
       "      <th>TIME</th>\n",
       "      <th>CITY</th>\n",
       "      <th>LOCALITY</th>\n",
       "      <th>RATING</th>\n",
       "      <th>VOTES</th>\n",
       "      <th>COST</th>\n",
       "    </tr>\n",
       "  </thead>\n",
       "  <tbody>\n",
       "    <tr>\n",
       "      <th>0</th>\n",
       "      <td>CASUAL DINING</td>\n",
       "      <td>9438</td>\n",
       "      <td>Malwani, Goan, North Indian</td>\n",
       "      <td>11am – 4pm, 7:30pm – 11:30pm (Mon-Sun)</td>\n",
       "      <td>Thane</td>\n",
       "      <td>Dombivali East</td>\n",
       "      <td>3.6</td>\n",
       "      <td>49 votes</td>\n",
       "      <td>1200</td>\n",
       "    </tr>\n",
       "    <tr>\n",
       "      <th>1</th>\n",
       "      <td>CASUAL DINING,BAR</td>\n",
       "      <td>13198</td>\n",
       "      <td>Asian, Modern Indian, Japanese</td>\n",
       "      <td>6pm – 11pm (Mon-Sun)</td>\n",
       "      <td>Chennai</td>\n",
       "      <td>Ramapuram</td>\n",
       "      <td>4.2</td>\n",
       "      <td>30 votes</td>\n",
       "      <td>1500</td>\n",
       "    </tr>\n",
       "    <tr>\n",
       "      <th>2</th>\n",
       "      <td>CASUAL DINING</td>\n",
       "      <td>10915</td>\n",
       "      <td>North Indian, Chinese, Biryani, Hyderabadi</td>\n",
       "      <td>11am – 3:30pm, 7pm – 11pm (Mon-Sun)</td>\n",
       "      <td>Chennai</td>\n",
       "      <td>Saligramam</td>\n",
       "      <td>3.8</td>\n",
       "      <td>221 votes</td>\n",
       "      <td>800</td>\n",
       "    </tr>\n",
       "    <tr>\n",
       "      <th>3</th>\n",
       "      <td>QUICK BITES</td>\n",
       "      <td>6346</td>\n",
       "      <td>Tibetan, Chinese</td>\n",
       "      <td>11:30am – 1am (Mon-Sun)</td>\n",
       "      <td>Mumbai</td>\n",
       "      <td>Bandra West</td>\n",
       "      <td>4.1</td>\n",
       "      <td>24 votes</td>\n",
       "      <td>800</td>\n",
       "    </tr>\n",
       "    <tr>\n",
       "      <th>4</th>\n",
       "      <td>DESSERT PARLOR</td>\n",
       "      <td>15387</td>\n",
       "      <td>Desserts</td>\n",
       "      <td>11am – 1am (Mon-Sun)</td>\n",
       "      <td>Mumbai</td>\n",
       "      <td>Lower Parel</td>\n",
       "      <td>3.8</td>\n",
       "      <td>165 votes</td>\n",
       "      <td>300</td>\n",
       "    </tr>\n",
       "  </tbody>\n",
       "</table>\n",
       "</div>"
      ],
      "text/plain": [
       "               TITLE  RESTAURANT_ID  \\\n",
       "0      CASUAL DINING           9438   \n",
       "1  CASUAL DINING,BAR          13198   \n",
       "2      CASUAL DINING          10915   \n",
       "3        QUICK BITES           6346   \n",
       "4     DESSERT PARLOR          15387   \n",
       "\n",
       "                                     CUISINES  \\\n",
       "0                 Malwani, Goan, North Indian   \n",
       "1              Asian, Modern Indian, Japanese   \n",
       "2  North Indian, Chinese, Biryani, Hyderabadi   \n",
       "3                            Tibetan, Chinese   \n",
       "4                                    Desserts   \n",
       "\n",
       "                                     TIME     CITY        LOCALITY RATING  \\\n",
       "0  11am – 4pm, 7:30pm – 11:30pm (Mon-Sun)    Thane  Dombivali East    3.6   \n",
       "1                    6pm – 11pm (Mon-Sun)  Chennai       Ramapuram    4.2   \n",
       "2     11am – 3:30pm, 7pm – 11pm (Mon-Sun)  Chennai      Saligramam    3.8   \n",
       "3                 11:30am – 1am (Mon-Sun)   Mumbai     Bandra West    4.1   \n",
       "4                    11am – 1am (Mon-Sun)   Mumbai     Lower Parel    3.8   \n",
       "\n",
       "       VOTES  COST  \n",
       "0   49 votes  1200  \n",
       "1   30 votes  1500  \n",
       "2  221 votes   800  \n",
       "3   24 votes   800  \n",
       "4  165 votes   300  "
      ]
     },
     "execution_count": 80,
     "metadata": {},
     "output_type": "execute_result"
    }
   ],
   "source": [
    "#Seeing the first five rows of dataset\n",
    "df.head()"
   ]
  },
  {
   "cell_type": "code",
   "execution_count": 81,
   "metadata": {},
   "outputs": [
    {
     "name": "stdout",
     "output_type": "stream",
     "text": [
      "Train Data: (12690, 9)\n",
      "\n",
      "\n",
      "Test Data: (4231, 8)\n"
     ]
    }
   ],
   "source": [
    "#Checking the shape \n",
    "print('Train Data:',df_train.shape)\n",
    "print('\\n')\n",
    "print('Test Data:',df_test.shape)"
   ]
  },
  {
   "cell_type": "code",
   "execution_count": 82,
   "metadata": {},
   "outputs": [
    {
     "data": {
      "text/plain": [
       "Index(['TITLE', 'RESTAURANT_ID', 'CUISINES', 'TIME', 'CITY', 'LOCALITY',\n",
       "       'RATING', 'VOTES', 'COST'],\n",
       "      dtype='object')"
      ]
     },
     "execution_count": 82,
     "metadata": {},
     "output_type": "execute_result"
    }
   ],
   "source": [
    "#Checking the columns of dataset\n",
    "df.columns"
   ]
  },
  {
   "cell_type": "code",
   "execution_count": 83,
   "metadata": {},
   "outputs": [
    {
     "data": {
      "text/plain": [
       "TITLE            object\n",
       "RESTAURANT_ID     int64\n",
       "CUISINES         object\n",
       "TIME             object\n",
       "CITY             object\n",
       "LOCALITY         object\n",
       "RATING           object\n",
       "VOTES            object\n",
       "COST              int64\n",
       "dtype: object"
      ]
     },
     "execution_count": 83,
     "metadata": {},
     "output_type": "execute_result"
    }
   ],
   "source": [
    "#Checking the datatypes of the columns\n",
    "df.dtypes"
   ]
  },
  {
   "cell_type": "code",
   "execution_count": 84,
   "metadata": {},
   "outputs": [
    {
     "name": "stdout",
     "output_type": "stream",
     "text": [
      "Unique values in TITLE 113\n",
      "Unique values in RESTAURANT_ID 11892\n",
      "Unique values in CUISINES 4155\n",
      "Unique values in TIME 2689\n",
      "Unique values in CITY 359\n",
      "Unique values in LOCALITY 1416\n",
      "Unique values in RATING 32\n",
      "Unique values in VOTES 1847\n",
      "Unique values in COST 86\n"
     ]
    }
   ],
   "source": [
    "#Finding unique values of columns\n",
    "for i in df.columns:\n",
    "    print(\"Unique values in\", i, df[i].nunique())"
   ]
  },
  {
   "cell_type": "code",
   "execution_count": 85,
   "metadata": {},
   "outputs": [
    {
     "name": "stdout",
     "output_type": "stream",
     "text": [
      "QUICK BITES                 4218\n",
      "CASUAL DINING               3652\n",
      "None                        1003\n",
      "CAFÉ                         607\n",
      "DESSERT PARLOR               382\n",
      "                            ... \n",
      "DESSERT PARLOR,KIOSK           1\n",
      "QUICK BITES,FOOD TRUCK         1\n",
      "BAKERY,CONFECTIONERY           1\n",
      "SWEET SHOP,CONFECTIONERY       1\n",
      "MICROBREWERY,LOUNGE            1\n",
      "Name: TITLE, Length: 113, dtype: int64\n",
      "\n",
      "South Indian                                532\n",
      "North Indian                                526\n",
      "North Indian, Chinese                       501\n",
      "Fast Food                                   286\n",
      "Chinese                                     167\n",
      "                                           ... \n",
      "Seafood, Chinese, South Indian                1\n",
      "Continental, Seafood, Fast Food, Italian      1\n",
      "Mughlai, Biryani, Chinese, North Indian       1\n",
      "Seafood, Arabian                              1\n",
      "Bar Food, Modern Indian                       1\n",
      "Name: CUISINES, Length: 4155, dtype: int64\n",
      "\n",
      "11am – 11pm (Mon-Sun)                               1415\n",
      "12noon – 12midnight (Mon-Sun)                        469\n",
      "12noon – 11pm (Mon-Sun)                              407\n",
      "11am – 12midnight (Mon-Sun)                          310\n",
      "10am – 10pm (Mon-Sun)                                221\n",
      "                                                    ... \n",
      "7am – 10am, 12:30pm – 2pm, 7pm – 11pm (Mon-Sun)        1\n",
      "4pm – 11:54pm, 12midnight – 4am (Mon-Sun)              1\n",
      "11am – 10:30pm (Mon, Tue, Thu, Fri, Sat, Sun)...       1\n",
      "10:30am – 8:30pm (Mon-Sun)                             1\n",
      "12noon – 1am (Mon-Fri),12noon – 4am (Sat-Sun)          1\n",
      "Name: TIME, Length: 2689, dtype: int64\n",
      "\n",
      "Chennai                                         2174\n",
      "Bangalore                                       2149\n",
      "Hyderabad                                       1819\n",
      "Mumbai                                          1722\n",
      "New Delhi                                       1321\n",
      "                                                ... \n",
      "Bangalore land mark above mahaveer hard ware       1\n",
      "MG Road                                            1\n",
      "Hyderabad-500032                                   1\n",
      "Kochi-18                                           1\n",
      "Serilingampally                                    1\n",
      "Name: CITY, Length: 359, dtype: int64\n",
      "\n",
      "Gachibowli                           166\n",
      "Indiranagar                          138\n",
      "Edappally                            122\n",
      "Kakkanad                             121\n",
      "HSR                                  120\n",
      "                                    ... \n",
      "1st Phase                              1\n",
      "West K.K. Nagar                        1\n",
      "1st Floor                              1\n",
      "Near LuLu Mall. Edappally Toll Jn      1\n",
      "1st Stage                              1\n",
      "Name: LOCALITY, Length: 1416, dtype: int64\n",
      "\n",
      "3.9    1238\n",
      "3.8    1190\n",
      "4.0    1099\n",
      "3.7    1086\n",
      "3.6     951\n",
      "4.1     936\n",
      "3.5     771\n",
      "4.2     723\n",
      "NEW     707\n",
      "3.4     575\n",
      "4.3     556\n",
      "-       495\n",
      "3.3     365\n",
      "4.4     362\n",
      "3.2     266\n",
      "4.5     199\n",
      "2.9     186\n",
      "3.1     186\n",
      "3.0     170\n",
      "2.8     146\n",
      "4.6     141\n",
      "2.7      89\n",
      "4.7      69\n",
      "2.6      61\n",
      "2.5      35\n",
      "4.8      32\n",
      "4.9      22\n",
      "2.4      15\n",
      "2.3      10\n",
      "2.1       3\n",
      "2.2       2\n",
      "2.0       2\n",
      "Name: RATING, dtype: int64\n",
      "\n",
      "44 votes      71\n",
      "28 votes      66\n",
      "29 votes      66\n",
      "38 votes      65\n",
      "35 votes      64\n",
      "              ..\n",
      "1717 votes     1\n",
      "1765 votes     1\n",
      "2783 votes     1\n",
      "2795 votes     1\n",
      "1352 votes     1\n",
      "Name: VOTES, Length: 1847, dtype: int64\n",
      "\n"
     ]
    }
   ],
   "source": [
    "for col in df.columns:\n",
    "    if df[col].dtype==\"object\":\n",
    "        print(df[col].value_counts())\n",
    "        print()"
   ]
  },
  {
   "cell_type": "code",
   "execution_count": 86,
   "metadata": {},
   "outputs": [
    {
     "data": {
      "text/plain": [
       "TITLE               0\n",
       "RESTAURANT_ID       0\n",
       "CUISINES            0\n",
       "TIME                0\n",
       "CITY              112\n",
       "LOCALITY           98\n",
       "RATING              2\n",
       "VOTES            1204\n",
       "COST                0\n",
       "dtype: int64"
      ]
     },
     "execution_count": 86,
     "metadata": {},
     "output_type": "execute_result"
    }
   ],
   "source": [
    "#Check for Null Values\n",
    "df.isnull().sum()"
   ]
  },
  {
   "cell_type": "markdown",
   "metadata": {},
   "source": [
    "##### Observation:\n",
    "     \n",
    "    Having Null values in CITY, LOCALITY, RATING and VOTES ."
   ]
  },
  {
   "cell_type": "code",
   "execution_count": 87,
   "metadata": {},
   "outputs": [
    {
     "data": {
      "text/html": [
       "<div>\n",
       "<style scoped>\n",
       "    .dataframe tbody tr th:only-of-type {\n",
       "        vertical-align: middle;\n",
       "    }\n",
       "\n",
       "    .dataframe tbody tr th {\n",
       "        vertical-align: top;\n",
       "    }\n",
       "\n",
       "    .dataframe thead th {\n",
       "        text-align: right;\n",
       "    }\n",
       "</style>\n",
       "<table border=\"1\" class=\"dataframe\">\n",
       "  <thead>\n",
       "    <tr style=\"text-align: right;\">\n",
       "      <th></th>\n",
       "      <th>TITLE</th>\n",
       "      <th>RESTAURANT_ID</th>\n",
       "      <th>CUISINES</th>\n",
       "      <th>TIME</th>\n",
       "      <th>CITY</th>\n",
       "      <th>LOCALITY</th>\n",
       "      <th>RATING</th>\n",
       "      <th>VOTES</th>\n",
       "      <th>COST</th>\n",
       "    </tr>\n",
       "  </thead>\n",
       "  <tbody>\n",
       "    <tr>\n",
       "      <th>13</th>\n",
       "      <td>CASUAL DINING</td>\n",
       "      <td>4319</td>\n",
       "      <td>South Indian</td>\n",
       "      <td>11am – 11:30pm (Mon-Sun)</td>\n",
       "      <td>Kochi</td>\n",
       "      <td>Edappally</td>\n",
       "      <td>-</td>\n",
       "      <td>NaN</td>\n",
       "      <td>400</td>\n",
       "    </tr>\n",
       "    <tr>\n",
       "      <th>62</th>\n",
       "      <td>QUICK BITES</td>\n",
       "      <td>7841</td>\n",
       "      <td>North Indian, Beverages</td>\n",
       "      <td>11am – 11pm (Mon-Sun)</td>\n",
       "      <td>Kochi</td>\n",
       "      <td>Kalamassery</td>\n",
       "      <td>NEW</td>\n",
       "      <td>NaN</td>\n",
       "      <td>200</td>\n",
       "    </tr>\n",
       "    <tr>\n",
       "      <th>69</th>\n",
       "      <td>None</td>\n",
       "      <td>11096</td>\n",
       "      <td>Pizza, Fast Food</td>\n",
       "      <td>11am – 11pm (Mon-Sun)</td>\n",
       "      <td>New Delhi</td>\n",
       "      <td>Kalkaji</td>\n",
       "      <td>NEW</td>\n",
       "      <td>NaN</td>\n",
       "      <td>200</td>\n",
       "    </tr>\n",
       "    <tr>\n",
       "      <th>85</th>\n",
       "      <td>QUICK BITES</td>\n",
       "      <td>12657</td>\n",
       "      <td>North Indian, South Indian</td>\n",
       "      <td>Closed (Mon),7:30am – 10:30pm (Tue-Sun)</td>\n",
       "      <td>Bangalore</td>\n",
       "      <td>Vijay Nagar</td>\n",
       "      <td>-</td>\n",
       "      <td>NaN</td>\n",
       "      <td>300</td>\n",
       "    </tr>\n",
       "    <tr>\n",
       "      <th>111</th>\n",
       "      <td>CASUAL DINING</td>\n",
       "      <td>7095</td>\n",
       "      <td>Gujarati, Rajasthani, North Indian</td>\n",
       "      <td>11:30am – 3:30pm, 7pm – 11pm (Mon-Sun)</td>\n",
       "      <td>Mumbai</td>\n",
       "      <td>Borivali West</td>\n",
       "      <td>NEW</td>\n",
       "      <td>NaN</td>\n",
       "      <td>800</td>\n",
       "    </tr>\n",
       "    <tr>\n",
       "      <th>...</th>\n",
       "      <td>...</td>\n",
       "      <td>...</td>\n",
       "      <td>...</td>\n",
       "      <td>...</td>\n",
       "      <td>...</td>\n",
       "      <td>...</td>\n",
       "      <td>...</td>\n",
       "      <td>...</td>\n",
       "      <td>...</td>\n",
       "    </tr>\n",
       "    <tr>\n",
       "      <th>12630</th>\n",
       "      <td>CASUAL DINING</td>\n",
       "      <td>9959</td>\n",
       "      <td>Tex-Mex, Italian, Coffee</td>\n",
       "      <td>8am – 10:30pm (Mon-Sun)</td>\n",
       "      <td>Gurgaon</td>\n",
       "      <td>Golf Course Road</td>\n",
       "      <td>NEW</td>\n",
       "      <td>NaN</td>\n",
       "      <td>1200</td>\n",
       "    </tr>\n",
       "    <tr>\n",
       "      <th>12641</th>\n",
       "      <td>CASUAL DINING</td>\n",
       "      <td>8312</td>\n",
       "      <td>Kerala</td>\n",
       "      <td>7:30am – 11:30pm (Mon-Sun)</td>\n",
       "      <td>Kochi</td>\n",
       "      <td>Pallimukku</td>\n",
       "      <td>-</td>\n",
       "      <td>NaN</td>\n",
       "      <td>300</td>\n",
       "    </tr>\n",
       "    <tr>\n",
       "      <th>12646</th>\n",
       "      <td>QUICK BITES</td>\n",
       "      <td>6050</td>\n",
       "      <td>Kerala, Chinese</td>\n",
       "      <td>11am – 11pm (Mon-Sun)</td>\n",
       "      <td>Ernakulam</td>\n",
       "      <td>Market Road</td>\n",
       "      <td>-</td>\n",
       "      <td>NaN</td>\n",
       "      <td>300</td>\n",
       "    </tr>\n",
       "    <tr>\n",
       "      <th>12658</th>\n",
       "      <td>None</td>\n",
       "      <td>9384</td>\n",
       "      <td>Kerala, South Indian</td>\n",
       "      <td>11am – 5pm (Mon-Sun)</td>\n",
       "      <td>Kochi</td>\n",
       "      <td>Chittoor Road</td>\n",
       "      <td>NEW</td>\n",
       "      <td>NaN</td>\n",
       "      <td>400</td>\n",
       "    </tr>\n",
       "    <tr>\n",
       "      <th>12660</th>\n",
       "      <td>CASUAL DINING,BAR</td>\n",
       "      <td>1439</td>\n",
       "      <td>North Indian, Continental, Chinese, Beverages</td>\n",
       "      <td>5pm – 1:30am (Mon-Sun)</td>\n",
       "      <td>Mumbai</td>\n",
       "      <td>Bandra West</td>\n",
       "      <td>NEW</td>\n",
       "      <td>NaN</td>\n",
       "      <td>1200</td>\n",
       "    </tr>\n",
       "  </tbody>\n",
       "</table>\n",
       "<p>1204 rows × 9 columns</p>\n",
       "</div>"
      ],
      "text/plain": [
       "                   TITLE  RESTAURANT_ID  \\\n",
       "13         CASUAL DINING           4319   \n",
       "62           QUICK BITES           7841   \n",
       "69                  None          11096   \n",
       "85           QUICK BITES          12657   \n",
       "111        CASUAL DINING           7095   \n",
       "...                  ...            ...   \n",
       "12630      CASUAL DINING           9959   \n",
       "12641      CASUAL DINING           8312   \n",
       "12646        QUICK BITES           6050   \n",
       "12658               None           9384   \n",
       "12660  CASUAL DINING,BAR           1439   \n",
       "\n",
       "                                            CUISINES  \\\n",
       "13                                      South Indian   \n",
       "62                           North Indian, Beverages   \n",
       "69                                  Pizza, Fast Food   \n",
       "85                        North Indian, South Indian   \n",
       "111               Gujarati, Rajasthani, North Indian   \n",
       "...                                              ...   \n",
       "12630                       Tex-Mex, Italian, Coffee   \n",
       "12641                                         Kerala   \n",
       "12646                                Kerala, Chinese   \n",
       "12658                           Kerala, South Indian   \n",
       "12660  North Indian, Continental, Chinese, Beverages   \n",
       "\n",
       "                                          TIME       CITY          LOCALITY  \\\n",
       "13                    11am – 11:30pm (Mon-Sun)      Kochi         Edappally   \n",
       "62                       11am – 11pm (Mon-Sun)      Kochi       Kalamassery   \n",
       "69                       11am – 11pm (Mon-Sun)  New Delhi           Kalkaji   \n",
       "85     Closed (Mon),7:30am – 10:30pm (Tue-Sun)  Bangalore       Vijay Nagar   \n",
       "111     11:30am – 3:30pm, 7pm – 11pm (Mon-Sun)     Mumbai     Borivali West   \n",
       "...                                        ...        ...               ...   \n",
       "12630                  8am – 10:30pm (Mon-Sun)    Gurgaon  Golf Course Road   \n",
       "12641               7:30am – 11:30pm (Mon-Sun)      Kochi        Pallimukku   \n",
       "12646                    11am – 11pm (Mon-Sun)  Ernakulam       Market Road   \n",
       "12658                     11am – 5pm (Mon-Sun)      Kochi     Chittoor Road   \n",
       "12660                   5pm – 1:30am (Mon-Sun)     Mumbai       Bandra West   \n",
       "\n",
       "      RATING VOTES  COST  \n",
       "13         -   NaN   400  \n",
       "62       NEW   NaN   200  \n",
       "69       NEW   NaN   200  \n",
       "85         -   NaN   300  \n",
       "111      NEW   NaN   800  \n",
       "...      ...   ...   ...  \n",
       "12630    NEW   NaN  1200  \n",
       "12641      -   NaN   300  \n",
       "12646      -   NaN   300  \n",
       "12658    NEW   NaN   400  \n",
       "12660    NEW   NaN  1200  \n",
       "\n",
       "[1204 rows x 9 columns]"
      ]
     },
     "execution_count": 87,
     "metadata": {},
     "output_type": "execute_result"
    }
   ],
   "source": [
    "#Checking rows where Votes are null\n",
    "df.loc[df['VOTES'].isnull()]"
   ]
  },
  {
   "cell_type": "markdown",
   "metadata": {},
   "source": [
    "##### Observation:\n",
    "\n",
    "      Here we observe that if Rating of restaurant is new then there are no votes.So we can impute Votes by 0\n",
    "      as its logical to have no votes for new restaurants."
   ]
  },
  {
   "cell_type": "code",
   "execution_count": 88,
   "metadata": {},
   "outputs": [],
   "source": [
    "df['VOTES'] = df['VOTES'].str.replace(' votes', '').astype(float)"
   ]
  },
  {
   "cell_type": "code",
   "execution_count": 89,
   "metadata": {},
   "outputs": [],
   "source": [
    "#Imputing missing values in VOTES column\n",
    "df[\"VOTES\"].fillna(0.0,inplace = True)\n"
   ]
  },
  {
   "cell_type": "markdown",
   "metadata": {},
   "source": [
    "##### Observation:\n",
    "     \n",
    "    a.In Rating column,we see that there are two unique values i.e. 'New' and '-'.\n",
    "    b.So we will replace it by 0 and null values also to make the Rating column numeric."
   ]
  },
  {
   "cell_type": "code",
   "execution_count": 91,
   "metadata": {},
   "outputs": [],
   "source": [
    "#Imputing values in RATING column and converting it into float datatype\n",
    "df[\"RATING\"].replace(\"NEW\",0,inplace=True)\n",
    "df[\"RATING\"].replace(\"-\",0,inplace=True)\n",
    "df[\"RATING\"].fillna(0,inplace=True)\n",
    "df['RATING'] = df['RATING'].astype(float)"
   ]
  },
  {
   "cell_type": "code",
   "execution_count": 93,
   "metadata": {},
   "outputs": [],
   "source": [
    "#After observation ,we see that in most of the rows where city is NaN Locality is also NaN.\n",
    "#So we have to impute both the columns with 'Missing'.\n",
    "df['CITY'].fillna('Missing', inplace=True)  \n",
    "df['LOCALITY'].fillna('Missing', inplace=True)"
   ]
  },
  {
   "cell_type": "code",
   "execution_count": 94,
   "metadata": {},
   "outputs": [
    {
     "data": {
      "text/plain": [
       "TITLE            0\n",
       "RESTAURANT_ID    0\n",
       "CUISINES         0\n",
       "TIME             0\n",
       "CITY             0\n",
       "LOCALITY         0\n",
       "RATING           0\n",
       "VOTES            0\n",
       "COST             0\n",
       "dtype: int64"
      ]
     },
     "execution_count": 94,
     "metadata": {},
     "output_type": "execute_result"
    }
   ],
   "source": [
    "#Check null values again\n",
    "df.isnull().sum()"
   ]
  },
  {
   "cell_type": "markdown",
   "metadata": {},
   "source": [
    "##### Observation:\n",
    "     \n",
    "     Now there is no null values present in the dataset ."
   ]
  },
  {
   "cell_type": "markdown",
   "metadata": {},
   "source": [
    "### Data Visualisation"
   ]
  },
  {
   "cell_type": "code",
   "execution_count": 95,
   "metadata": {},
   "outputs": [
    {
     "data": {
      "text/plain": [
       "<matplotlib.axes._subplots.AxesSubplot at 0x1ad8369b430>"
      ]
     },
     "execution_count": 95,
     "metadata": {},
     "output_type": "execute_result"
    },
    {
     "data": {
      "image/png": "[encoded data removed]",
      "text/plain": [
       "<Figure size 432x288 with 1 Axes>"
      ]
     },
     "metadata": {
      "needs_background": "light"
     },
     "output_type": "display_data"
    }
   ],
   "source": [
    "sns.distplot(df['RATING'],bins=20)"
   ]
  },
  {
   "cell_type": "markdown",
   "metadata": {},
   "source": [
    "Observation:\n",
    "    \n",
    "    1.Here we see that maximum rating is from range 3 to 4.5 . \n",
    "    \n",
    "    2.And some Ratings are 0 , which means that these are new restaurants."
   ]
  },
  {
   "cell_type": "code",
   "execution_count": 96,
   "metadata": {},
   "outputs": [
    {
     "data": {
      "image/png": "[encoded data removed]",
      "text/plain": [
       "<Figure size 1080x576 with 1 Axes>"
      ]
     },
     "metadata": {
      "needs_background": "light"
     },
     "output_type": "display_data"
    }
   ],
   "source": [
    "plt.figure(figsize=(15,8))\n",
    "sns.barplot(x=\"RATING\",y=\"COST\",data=df)\n",
    "plt.title('RATING vs COST')\n",
    "plt.show()"
   ]
  },
  {
   "cell_type": "markdown",
   "metadata": {},
   "source": [
    "##### Observation:\n",
    "    We observed that as Restaurants Rating increases from 4.0 Food Cost also increases ."
   ]
  },
  {
   "cell_type": "code",
   "execution_count": 97,
   "metadata": {},
   "outputs": [
    {
     "name": "stdout",
     "output_type": "stream",
     "text": [
      "<class 'pandas.core.frame.DataFrame'>\n",
      "RangeIndex: 12690 entries, 0 to 12689\n",
      "Data columns (total 9 columns):\n",
      " #   Column         Non-Null Count  Dtype  \n",
      "---  ------         --------------  -----  \n",
      " 0   TITLE          12690 non-null  object \n",
      " 1   RESTAURANT_ID  12690 non-null  int64  \n",
      " 2   CUISINES       12690 non-null  object \n",
      " 3   TIME           12690 non-null  object \n",
      " 4   CITY           12690 non-null  object \n",
      " 5   LOCALITY       12690 non-null  object \n",
      " 6   RATING         12690 non-null  float64\n",
      " 7   VOTES          12690 non-null  float64\n",
      " 8   COST           12690 non-null  int64  \n",
      "dtypes: float64(2), int64(2), object(5)\n",
      "memory usage: 892.4+ KB\n"
     ]
    }
   ],
   "source": [
    "#Checking the information of the dataset\n",
    "df.info()"
   ]
  },
  {
   "cell_type": "markdown",
   "metadata": {},
   "source": [
    "### Handling Categorical Data"
   ]
  },
  {
   "cell_type": "code",
   "execution_count": 98,
   "metadata": {},
   "outputs": [],
   "source": [
    "#Dropping 'Restaurant ID' and 'Time' column as it of no use in predicting food cost.\n",
    "df.drop(columns=['RESTAURANT_ID','TIME'],inplace=True)"
   ]
  },
  {
   "cell_type": "code",
   "execution_count": 99,
   "metadata": {},
   "outputs": [],
   "source": [
    "#Splitting column values from \",\" in title column\n",
    "title=[]\n",
    "for row in df['TITLE']:\n",
    "    title.append(list(row.split(',')))\n",
    "df['TITLE']=title\n",
    "title_data=df['TITLE'].apply(lambda x: pd.Series(1, x))"
   ]
  },
  {
   "cell_type": "code",
   "execution_count": 101,
   "metadata": {},
   "outputs": [],
   "source": [
    "#Splitting column values from \",\" in cuisines column\n",
    "cuisines=[]\n",
    "for row in df['CUISINES']:\n",
    "    cuisines.append(list(row.split(',')))\n",
    "\n",
    "df['CUISINES']=cuisines\n",
    "cuisines_data=df['CUISINES'].apply(lambda x: pd.Series(1, x))"
   ]
  },
  {
   "cell_type": "code",
   "execution_count": 103,
   "metadata": {},
   "outputs": [
    {
     "data": {
      "text/plain": [
       "0    321\n",
       "1     67\n",
       "2     67\n",
       "3    223\n",
       "4    223\n",
       "Name: CITY, dtype: int32"
      ]
     },
     "execution_count": 103,
     "metadata": {},
     "output_type": "execute_result"
    }
   ],
   "source": [
    "#Label Encoding in City column\n",
    "from sklearn.preprocessing import LabelEncoder\n",
    "le=LabelEncoder()\n",
    "df['CITY']=le.fit_transform(df['CITY'])\n",
    "df['CITY'].head()"
   ]
  },
  {
   "cell_type": "code",
   "execution_count": 104,
   "metadata": {},
   "outputs": [],
   "source": [
    "#Combinning variable datasets into a dataframe\n",
    "df = pd.concat([df,cuisines_data,title_data], axis=1)"
   ]
  },
  {
   "cell_type": "code",
   "execution_count": 105,
   "metadata": {},
   "outputs": [],
   "source": [
    "#We can drop \"CUISINE\" and \"TITLE\"columns\n",
    "df.drop(columns=[\"CUISINES\",\"TITLE\",\"LOCALITY\"],inplace=True)"
   ]
  },
  {
   "cell_type": "code",
   "execution_count": 107,
   "metadata": {},
   "outputs": [],
   "source": [
    "df.fillna(0,inplace=True)"
   ]
  },
  {
   "cell_type": "markdown",
   "metadata": {},
   "source": [
    "## Regression Modelling"
   ]
  },
  {
   "cell_type": "code",
   "execution_count": 109,
   "metadata": {},
   "outputs": [],
   "source": [
    "#Seprate the input and output variable\n",
    "df_x=df.drop(columns=[\"COST\"])\n",
    "y=df[[\"COST\"]]\n"
   ]
  },
  {
   "cell_type": "code",
   "execution_count": 110,
   "metadata": {},
   "outputs": [],
   "source": [
    "#Bringing every column to common scale using Standard Scaler\n",
    "from sklearn.preprocessing import StandardScaler\n",
    "sc = StandardScaler()\n",
    "x=sc.fit_transform(df_x)\n",
    "df_x=pd.DataFrame(x,columns=df_x.columns)"
   ]
  },
  {
   "cell_type": "code",
   "execution_count": 111,
   "metadata": {},
   "outputs": [],
   "source": [
    "#Importing all the model library\n",
    "from sklearn.linear_model import LinearRegression,Lasso,Ridge,ElasticNet\n",
    "from sklearn.svm import SVR\n",
    "from sklearn.tree import DecisionTreeRegressor\n",
    "from sklearn.neighbors import KNeighborsRegressor\n",
    "\n",
    "#Importing Boosting models \n",
    "from sklearn.ensemble import RandomForestRegressor\n",
    "from sklearn.ensemble import AdaBoostRegressor\n",
    "\n",
    "#Importing error metrics\n",
    "from sklearn.metrics import mean_absolute_error, mean_squared_error,r2_score\n",
    "from sklearn.model_selection import GridSearchCV,cross_val_score"
   ]
  },
  {
   "cell_type": "code",
   "execution_count": 112,
   "metadata": {},
   "outputs": [],
   "source": [
    "#Splitting the data into training and testing data\n",
    "from sklearn.model_selection import train_test_split\n",
    "x_train,x_test,y_train,y_test=train_test_split(df_x,y,test_size=0.20,random_state=45)\n"
   ]
  },
  {
   "cell_type": "code",
   "execution_count": 114,
   "metadata": {},
   "outputs": [
    {
     "name": "stdout",
     "output_type": "stream",
     "text": [
      "Score of LinearRegression() is: 0.7162984282340351\n",
      "MAE: 69063946627639.44\n",
      "MSE: 3.2315200708947627e+30\n",
      "RMSE: 1797642920853516.8\n",
      "R2 score: -8.385919423460187e+24\n",
      "****************************************************************************************************\n",
      "\n",
      "\n",
      "Score of SVR() is: 0.04984238183462919\n",
      "MAE: 317.8022332607242\n",
      "MSE: 366102.6501413877\n",
      "RMSE: 605.0641702674087\n",
      "R2 score: 0.04994947967293828\n",
      "****************************************************************************************************\n",
      "\n",
      "\n",
      "Score of DecisionTreeRegressor() is: 0.9976341228612896\n",
      "MAE: 245.9657270975238\n",
      "MSE: 181848.4649776164\n",
      "RMSE: 426.43694138479185\n",
      "R2 score: 0.5280962082466747\n",
      "****************************************************************************************************\n",
      "\n",
      "\n",
      "Score of KNeighborsRegressor() is: 0.7245544301906365\n",
      "MAE: 222.80732860520095\n",
      "MSE: 154715.5685579196\n",
      "RMSE: 393.3389995384638\n",
      "R2 score: 0.5985071226488456\n",
      "****************************************************************************************************\n",
      "\n",
      "\n",
      "Score of RandomForestRegressor() is: 0.9579765498822951\n",
      "MAE: 192.44464712248592\n",
      "MSE: 116084.82383902308\n",
      "RMSE: 340.7122302457355\n",
      "R2 score: 0.6987553975701981\n",
      "****************************************************************************************************\n",
      "\n",
      "\n",
      "Score of AdaBoostRegressor() is: -0.48729035955700906\n",
      "MAE: 729.6813721892365\n",
      "MSE: 622814.8613812649\n",
      "RMSE: 789.1862019709068\n",
      "R2 score: -0.6162286257534126\n",
      "****************************************************************************************************\n",
      "\n",
      "\n"
     ]
    }
   ],
   "source": [
    "#All Algorithms by using for loop\n",
    "\n",
    "model=[LinearRegression(),SVR(),DecisionTreeRegressor(),KNeighborsRegressor(),\n",
    "       RandomForestRegressor(),AdaBoostRegressor()]\n",
    "\n",
    "for m in model:\n",
    "    m.fit(x_train,y_train)\n",
    "    score=m.score(x_train,y_train)\n",
    "    predm=m.predict(x_test)\n",
    "    print('Score of',m,'is:',score)\n",
    "    print('MAE:',mean_absolute_error(y_test,predm))\n",
    "    print('MSE:',mean_squared_error(y_test,predm))\n",
    "    print('RMSE:',np.sqrt(mean_squared_error(y_test,predm)))\n",
    "    print('R2 score:',r2_score(y_test,predm))\n",
    "    print('*'*100)\n",
    "    print('\\n') \n",
    "    "
   ]
  },
  {
   "cell_type": "markdown",
   "metadata": {},
   "source": [
    "##### Observation:\n",
    "    Based on RMSE and accuracy score Random Forest Regressor is performing best.\n",
    "    Final model accuracy is 0.96\n",
    "    R2 score is 0.7"
   ]
  },
  {
   "cell_type": "code",
   "execution_count": 117,
   "metadata": {},
   "outputs": [
    {
     "name": "stdout",
     "output_type": "stream",
     "text": [
      "{'max_depth': 10, 'n_estimators': 100}\n"
     ]
    }
   ],
   "source": [
    "#Using GridSearchCV to find the best parameters\n",
    "from sklearn.model_selection import GridSearchCV\n",
    "\n",
    "parameters={'n_estimators':[10,100,200] ,'max_depth':[5,10,15,20]}\n",
    "rfr=RandomForestRegressor()\n",
    "\n",
    "clf=GridSearchCV(rfr,parameters)\n",
    "clf.fit(x,y)\n",
    "print(clf.best_params_)"
   ]
  },
  {
   "cell_type": "code",
   "execution_count": 119,
   "metadata": {},
   "outputs": [
    {
     "name": "stdout",
     "output_type": "stream",
     "text": [
      "Score: 0.9578181371969886\n",
      "\n",
      "\n",
      "Mean absolute error: 192.34376920702886\n",
      "Mean squared error: 115375.09853813195\n",
      "Root Mean Squared Error: 339.66910153579164\n",
      "\n",
      "\n",
      "R2 score: 0.7005971621439877\n",
      "\n",
      "\n"
     ]
    }
   ],
   "source": [
    "#Using Random Forest Regressor with its best parameter\n",
    "from sklearn.ensemble import RandomForestRegressor\n",
    "rf=RandomForestRegressor(n_estimators=100,max_depth=10)\n",
    "rf.fit(x_train,y_train)\n",
    "print('Score:',rf.score(x_train,y_train))\n",
    "y_pred=rf.predict(x_test)\n",
    "print('\\n')\n",
    "print('Mean absolute error:',mean_absolute_error(y_test,y_pred))\n",
    "print('Mean squared error:',mean_squared_error(y_test,y_pred))\n",
    "print('Root Mean Squared Error:',np.sqrt(mean_squared_error(y_test,y_pred)))\n",
    "print('\\n')\n",
    "print('R2 score:',r2_score(y_test,y_pred))\n",
    "print('\\n')"
   ]
  },
  {
   "cell_type": "code",
   "execution_count": 142,
   "metadata": {},
   "outputs": [
    {
     "data": {
      "image/png": "[encoded data removed]",
      "text/plain": [
       "<Figure size 432x288 with 1 Axes>"
      ]
     },
     "metadata": {
      "needs_background": "light"
     },
     "output_type": "display_data"
    }
   ],
   "source": [
    "#Plotting our prediction vs test results with RFR model \n",
    "plt.scatter(x=y_test,y=y_pred,marker= \"o\",color=\"red\",alpha=0.1)\n",
    "plt.xlim(0,3000)\n",
    "plt.ylim(0,3000)\n",
    "plt.title('Y Test vs Y Predicted')\n",
    "plt.xlabel('Y Test')\n",
    "plt.ylabel('Predicted Y')\n",
    "a=sns.lineplot(x=[0,6000],y=[0,6000])\n",
    "plt.show()"
   ]
  },
  {
   "cell_type": "markdown",
   "metadata": {},
   "source": [
    "# Overall Remarks:\n",
    "\n",
    "a. Taken output variable as Cost  \n",
    "b. Understood relationship of Cost by using datavisualization  \n",
    "c. Ratings,Votes has linear positive relationship.  \n",
    "d. Label Encoded object datas such as City for better EDA analysis.  \n",
    "e. Split column Cuisines and Title to get all variable values  \n",
    "f. Checked various regressor models and found RandomForest with best r2score  \n",
    "g. Performed hypertuning to find best parameters of these models and finally chose RF for final model.  \n",
    "h. Final score for RFR model is 0.96 , R2 score is 0.7  \n",
    "i. Plotted scatter plot and found linear line that shows close match between test and predicted values.  \n"
   ]
  },
  {
   "cell_type": "markdown",
   "metadata": {},
   "source": [
    "### Saving the model"
   ]
  },
  {
   "cell_type": "code",
   "execution_count": 147,
   "metadata": {},
   "outputs": [],
   "source": [
    "#From above we see RandomForestRegressor is performing better so we will use it to make our final predictions.\n",
    "Cost_pred=rf.predict(df_test)"
   ]
  },
  {
   "cell_type": "code",
   "execution_count": 144,
   "metadata": {},
   "outputs": [],
   "source": [
    "#Dataframe for Food Cost prediction\n",
    "Cost_pred=pd.DataFrame(Cost_pred,columns=[\"Fees\"])"
   ]
  },
  {
   "cell_type": "code",
   "execution_count": 145,
   "metadata": {},
   "outputs": [],
   "source": [
    "Cost_pred.to_csv('Food_Cost_Predictions.csv',index=False)"
   ]
  }
 ],
 "metadata": {
  "kernelspec": {
   "display_name": "Python 3",
   "language": "python",
   "name": "python3"
  },
  "language_info": {
   "codemirror_mode": {
    "name": "ipython",
    "version": 3
   },
   "file_extension": ".py",
   "mimetype": "text/x-python",
   "name": "python",
   "nbconvert_exporter": "python",
   "pygments_lexer": "ipython3",
   "version": "3.8.3"
  }
 },
 "nbformat": 4,
 "nbformat_minor": 4
}
